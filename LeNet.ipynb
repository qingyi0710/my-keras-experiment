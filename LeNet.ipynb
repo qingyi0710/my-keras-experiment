{
 "cells": [
  {
   "cell_type": "code",
   "execution_count": 1,
   "metadata": {},
   "outputs": [
    {
     "name": "stderr",
     "output_type": "stream",
     "text": [
      "/home/cvnlp/anaconda2/lib/python2.7/site-packages/h5py/__init__.py:36: FutureWarning: Conversion of the second argument of issubdtype from `float` to `np.floating` is deprecated. In future, it will be treated as `np.float64 == np.dtype(float).type`.\n",
      "  from ._conv import register_converters as _register_converters\n",
      "Using TensorFlow backend.\n"
     ]
    }
   ],
   "source": [
    "from keras import backend as K\n",
    "from keras.models import Sequential\n",
    "from keras.layers.convolutional import Conv2D, MaxPooling2D\n",
    "from keras.layers.core import Activation, Flatten, Dense\n",
    "from keras.datasets import mnist\n",
    "from keras.utils import np_utils\n",
    "from keras.optimizers import SGD, RMSprop, Adam \n",
    "import numpy as np \n",
    "import matplotlib.pyplot as plt"
   ]
  },
  {
   "cell_type": "markdown",
   "metadata": {},
   "source": [
    "## 函数定义"
   ]
  },
  {
   "cell_type": "code",
   "execution_count": 2,
   "metadata": {},
   "outputs": [],
   "source": [
    "class LeNet:\n",
    "    @staticmethod\n",
    "    def build(input_shape, classes):\n",
    "        model = Sequential()\n",
    "        #    conv => relu => pool\n",
    "        model.add(Conv2D(20, kernel_size=5, padding='same', input_shape=input_shape))\n",
    "        model.add(Activation('relu'))\n",
    "        model.add(MaxPooling2D(pool_size=(2,2), strides=(2,2)))\n",
    "        # conv => relu => pool\n",
    "\n",
    "        model.add(Conv2D(50, kernel_size=5, padding='same'))\n",
    "        model.add(Activation('relu'))\n",
    "        model.add(MaxPooling2D(pool_size=(2,2), strides=(2,2)))\n",
    "\n",
    "        model.add(Flatten())\n",
    "        model.add(Dense(500))\n",
    "        model.add(Activation('relu'))\n",
    "\n",
    "        # softmax classifier\n",
    "        model.add(Dense(classes))\n",
    "        model.add(Activation('softmax'))\n",
    "\n",
    "        return model\n",
    "            \n",
    "    "
   ]
  },
  {
   "cell_type": "markdown",
   "metadata": {},
   "source": [
    "## 参数定义和训练"
   ]
  },
  {
   "cell_type": "code",
   "execution_count": 3,
   "metadata": {},
   "outputs": [
    {
     "name": "stdout",
     "output_type": "stream",
     "text": [
      "Train on 48000 samples, validate on 12000 samples\n",
      "Epoch 1/20\n",
      "48000/48000 [==============================] - 4s 84us/step - loss: 0.1992 - acc: 0.9382 - val_loss: 0.0691 - val_acc: 0.9788\n",
      "Epoch 2/20\n",
      "48000/48000 [==============================] - 3s 61us/step - loss: 0.0537 - acc: 0.9834 - val_loss: 0.0588 - val_acc: 0.9813\n",
      "Epoch 3/20\n",
      "48000/48000 [==============================] - 3s 61us/step - loss: 0.0354 - acc: 0.9891 - val_loss: 0.0455 - val_acc: 0.9862\n",
      "Epoch 4/20\n",
      "48000/48000 [==============================] - 3s 59us/step - loss: 0.0263 - acc: 0.9915 - val_loss: 0.0423 - val_acc: 0.9869\n",
      "Epoch 5/20\n",
      "48000/48000 [==============================] - 3s 63us/step - loss: 0.0195 - acc: 0.9938 - val_loss: 0.0469 - val_acc: 0.9876\n",
      "Epoch 6/20\n",
      "48000/48000 [==============================] - 3s 62us/step - loss: 0.0152 - acc: 0.9948 - val_loss: 0.0399 - val_acc: 0.9894\n",
      "Epoch 7/20\n",
      "48000/48000 [==============================] - 3s 62us/step - loss: 0.0128 - acc: 0.9958 - val_loss: 0.0378 - val_acc: 0.9896\n",
      "Epoch 8/20\n",
      "48000/48000 [==============================] - 3s 61us/step - loss: 0.0100 - acc: 0.9969 - val_loss: 0.0355 - val_acc: 0.9903\n",
      "Epoch 9/20\n",
      "48000/48000 [==============================] - 3s 61us/step - loss: 0.0063 - acc: 0.9979 - val_loss: 0.0473 - val_acc: 0.9888\n",
      "Epoch 10/20\n",
      "48000/48000 [==============================] - 3s 59us/step - loss: 0.0094 - acc: 0.9966 - val_loss: 0.0479 - val_acc: 0.9883\n",
      "Epoch 11/20\n",
      "48000/48000 [==============================] - 3s 60us/step - loss: 0.0062 - acc: 0.9979 - val_loss: 0.0412 - val_acc: 0.9907\n",
      "Epoch 12/20\n",
      "48000/48000 [==============================] - 3s 58us/step - loss: 0.0059 - acc: 0.9982 - val_loss: 0.0419 - val_acc: 0.9901\n",
      "Epoch 13/20\n",
      "48000/48000 [==============================] - 3s 60us/step - loss: 0.0074 - acc: 0.9972 - val_loss: 0.0357 - val_acc: 0.9914\n",
      "Epoch 14/20\n",
      "48000/48000 [==============================] - 3s 59us/step - loss: 0.0042 - acc: 0.9987 - val_loss: 0.0534 - val_acc: 0.9873\n",
      "Epoch 15/20\n",
      "48000/48000 [==============================] - 3s 58us/step - loss: 0.0044 - acc: 0.9986 - val_loss: 0.0470 - val_acc: 0.9902\n",
      "Epoch 16/20\n",
      "48000/48000 [==============================] - 3s 58us/step - loss: 0.0062 - acc: 0.9978 - val_loss: 0.0401 - val_acc: 0.9878\n",
      "Epoch 17/20\n",
      "48000/48000 [==============================] - 3s 60us/step - loss: 0.0024 - acc: 0.9994 - val_loss: 0.0372 - val_acc: 0.9914\n",
      "Epoch 18/20\n",
      "48000/48000 [==============================] - 3s 57us/step - loss: 0.0044 - acc: 0.9986 - val_loss: 0.0594 - val_acc: 0.9880\n",
      "Epoch 19/20\n",
      "48000/48000 [==============================] - 3s 57us/step - loss: 0.0036 - acc: 0.9987 - val_loss: 0.0518 - val_acc: 0.9903\n",
      "Epoch 20/20\n",
      "48000/48000 [==============================] - 3s 56us/step - loss: 0.0046 - acc: 0.9986 - val_loss: 0.0386 - val_acc: 0.9906\n",
      "10000/10000 [==============================] - 1s 66us/step\n"
     ]
    }
   ],
   "source": [
    "#  网络和训练\n",
    "NB_EPOACH = 20\n",
    "BATCH_SIZE = 128\n",
    "VERBOSE = 1\n",
    "OPTIMIZER = Adam()\n",
    "VALIDATION_SPLIT = 0.2\n",
    "IMG_ROWS, IMG_COLS = 28,28\n",
    "NB_CLASSES = 10\n",
    "INPUT_SHAPE = (1, IMG_ROWS, IMG_COLS)\n",
    "\n",
    "# 划分训练集和测试集\n",
    "(X_train, y_train ), (X_test, y_test) = mnist.load_data()\n",
    "K.set_image_dim_ordering('th')\n",
    "# (samples, channels, rows, rols)\n",
    "# (samples,rows, cols, channels)  => tf\n",
    "\n",
    "# 将其看成float类型并归一化\n",
    "X_train = X_train.astype('float32')\n",
    "X_test = X_test.astype('float32')\n",
    "X_train /= 255\n",
    "X_test /= 255\n",
    "\n",
    "# 我们需要使用形状60k*[1*28*28]作为卷积网络的输入\n",
    "X_train = X_train[:, np.newaxis, :, :]\n",
    "X_test = X_test[:, np.newaxis, :, :]\n",
    "\n",
    "# 将类向量转化为二值类别矩阵\n",
    "y_train = np_utils.to_categorical(y_train, NB_CLASSES)\n",
    "y_test = np_utils.to_categorical(y_test, NB_CLASSES)\n",
    "\n",
    "# 初始化优化器和模型\n",
    "model = LeNet.build(input_shape=INPUT_SHAPE, classes=NB_CLASSES)\n",
    "model.compile(loss='categorical_crossentropy', optimizer=OPTIMIZER,metrics=['accuracy'])\n",
    "\n",
    "# 历史数据的保持，重要\n",
    "history = model.fit(X_train, y_train, batch_size=BATCH_SIZE, epochs=NB_EPOACH, verbose=VERBOSE, validation_split=VALIDATION_SPLIT)\n",
    "\n",
    "score = model.evaluate(X_test,y_test,verbose=VERBOSE)\n"
   ]
  },
  {
   "cell_type": "code",
   "execution_count": 4,
   "metadata": {},
   "outputs": [
    {
     "name": "stdout",
     "output_type": "stream",
     "text": [
      "('Test score:', 0.037401323170922936)\n",
      "('Test accuracy:', 0.9912)\n"
     ]
    }
   ],
   "source": [
    "print(\"Test score:\", score[0])\n",
    "print('Test accuracy:', score[1])"
   ]
  },
  {
   "cell_type": "code",
   "execution_count": 5,
   "metadata": {},
   "outputs": [
    {
     "name": "stdout",
     "output_type": "stream",
     "text": [
      "['acc', 'loss', 'val_acc', 'val_loss']\n"
     ]
    }
   ],
   "source": [
    "# 列出全部历史数据\n",
    "print history.history.keys()"
   ]
  },
  {
   "cell_type": "code",
   "execution_count": 6,
   "metadata": {},
   "outputs": [
    {
     "data": {
      "image/png": "[encoded data removed]",
      "text/plain": [
       "<Figure size 432x288 with 1 Axes>"
      ]
     },
     "metadata": {},
     "output_type": "display_data"
    }
   ],
   "source": [
    "# 绘图 总的历史准确率数据\n",
    "plt.plot(history.history['acc'])\n",
    "plt.plot(history.history['val_acc'])\n",
    "plt.title('model accuracy')\n",
    "plt.ylabel('accuracy')\n",
    "plt.xlabel('epoach')\n",
    "plt.legend(['train', 'test'], loc='upper left')\n",
    "plt.show()"
   ]
  },
  {
   "cell_type": "code",
   "execution_count": 7,
   "metadata": {},
   "outputs": [
    {
     "data": {
      "image/png": "[encoded data removed]",
      "text/plain": [
       "<Figure size 432x288 with 1 Axes>"
      ]
     },
     "metadata": {},
     "output_type": "display_data"
    }
   ],
   "source": [
    "# 绘总损失函数准确率数据\n",
    "plt.plot(history.history['loss'])\n",
    "plt.plot(history.history['val_loss'])\n",
    "plt.title('model loss')\n",
    "plt.ylabel('loss')\n",
    "plt.xlabel('epoach')\n",
    "plt.legend(['train', 'test'], loc='upper left')\n",
    "plt.show()"
   ]
  },
  {
   "cell_type": "code",
   "execution_count": null,
   "metadata": {},
   "outputs": [],
   "source": []
  }
 ],
 "metadata": {
  "kernelspec": {
   "display_name": "Python 2",
   "language": "python",
   "name": "python2"
  },
  "language_info": {
   "codemirror_mode": {
    "name": "ipython",
    "version": 2
   },
   "file_extension": ".py",
   "mimetype": "text/x-python",
   "name": "python",
   "nbconvert_exporter": "python",
   "pygments_lexer": "ipython2",
   "version": "2.7.15"
  }
 },
 "nbformat": 4,
 "nbformat_minor": 2
}
